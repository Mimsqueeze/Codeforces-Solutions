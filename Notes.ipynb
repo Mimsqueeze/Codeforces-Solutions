{
 "cells": [
  {
   "cell_type": "markdown",
   "metadata": {},
   "source": [
    "# Python STL Notes\n",
    "## Lists and Tuples"
   ]
  },
  {
   "cell_type": "code",
   "execution_count": 76,
   "metadata": {},
   "outputs": [
    {
     "name": "stdout",
     "output_type": "stream",
     "text": [
      "4\n",
      "3\n",
      "2\n",
      "1\n",
      "4\n",
      "3\n",
      "2\n",
      "1\n"
     ]
    }
   ],
   "source": [
    "list = [] # empty list\n",
    "list = [1, 2, 3, 4, 5] # list containing 1, 2, 3, 4, 5\n",
    "list = [0]*5 # list containing 0, 0, 0, 0, 0\n",
    "list = [i for i in range(1, 6)] # list containing 1, 2, 3, 4, 5\n",
    "list[-1] # accessing the last element of the list\n",
    "list[:4] # returns subarray from index 2 - index 4 (non-inclusive)\n",
    "list[2:] # returns subarray from index 2 - index 4 (non-inclusive)\n",
    "list[2:4] # returns subarray from index 2 - index 4 (non-inclusive)\n",
    "list + [6] # adds 6 to end of the list\n",
    "[0] + list # adds 0 to the start of the list\n",
    "list.insert(1, 10) # inserts 10 into index 1\n",
    "list.pop(1) # removes index 1\n",
    "list.pop() # removes the last item\n",
    "list.sort() # sorts the list\n",
    "list.sort(reverse = True) # sorts the list in reverse order\n",
    "\n",
    "for x in list: # loops through a list\n",
    "    print(x)\n",
    "\n",
    "for i in range(len(list)): # loops through a list\n",
    "    print(list[i])"
   ]
  },
  {
   "cell_type": "code",
   "execution_count": 77,
   "metadata": {},
   "outputs": [
    {
     "name": "stdout",
     "output_type": "stream",
     "text": [
      "1 0 0 0 \n",
      "0 0 0 0 \n",
      "0 0 0 0 \n"
     ]
    }
   ],
   "source": [
    "list2D = [[0 for j in range(4)] for i in range(3)] # 2D list with 3 rows and 4 columns\n",
    "list2D[0][0] = 1 # accessing an element of a 2D list\n",
    "for i in range(len(list2D)):\n",
    "    for j in range(len(list2D[i])):\n",
    "        print(list2D[i][j], end = \" \")\n",
    "    print()"
   ]
  },
  {
   "cell_type": "code",
   "execution_count": 78,
   "metadata": {},
   "outputs": [],
   "source": [
    "tuple = (3.14, \"pi\") # tuple containing float 3.14 and string \"pi\"\n",
    "tuple = (tuple[0] + 1, \"not \" + tuple[1]) # tuples are immutable, so just make new ones\n",
    "(first, second) = tuple # tuples can be unpacked\n",
    "\n",
    "list_tuples = [(3,5), (6,7), (5,7), (4,7)] # list of tuples\n",
    "list_tuples.sort() # can be sorted in ascending based on first then second elt"
   ]
  },
  {
   "cell_type": "markdown",
   "metadata": {},
   "source": [
    "## Sets and Maps"
   ]
  },
  {
   "cell_type": "code",
   "execution_count": 8,
   "metadata": {},
   "outputs": [
    {
     "name": "stdout",
     "output_type": "stream",
     "text": [
      "2\n",
      "3\n",
      "4\n"
     ]
    },
    {
     "data": {
      "text/plain": [
       "3"
      ]
     },
     "execution_count": 8,
     "metadata": {},
     "output_type": "execute_result"
    }
   ],
   "source": [
    "s = set() # empty set\n",
    "s = {1, 2, 3} # set containing 1, 2, 3\n",
    "s.add(4) # add 4 to the set\n",
    "s.remove(1) # removes 1 from the set, RAISES ERROR if 1 is not in the set\n",
    "s.discard(1) # discards 1 from the set\n",
    "1 in s # checks if 1 is in the set\n",
    "4 not in s # checks if 4 is not in the set\n",
    "for x in s: # loops over set\n",
    "    print(x)"
   ]
  },
  {
   "cell_type": "code",
   "execution_count": 23,
   "metadata": {},
   "outputs": [
    {
     "name": "stdout",
     "output_type": "stream",
     "text": [
      "False\n",
      "2\n",
      "2 6\n"
     ]
    }
   ],
   "source": [
    "dict = {} # empty dictionary\n",
    "dict = {1: 5, 2: 6} # dictionary containing 1-5 2-6 key-value pairs\n",
    "dict[1] # access value to key 1\n",
    "# dict[3] # note, if key is NOT in the dictionary, ERROR!\n",
    "print(3 in dict) # Checks if key 3 is in the dictionary\n",
    "dict.keys() # returns list of keys in the dictionary\n",
    "dict.values() # returns list of values in the dictionary\n",
    "dict.pop(1) # removes key 1 and its value from the dictionary\n",
    "for x in dict: # loops through all keys of the dictionary\n",
    "    print(x)\n",
    "for x, y in dict.items(): # loops through all keys and values of the dictionary\n",
    "    print(str(x) + \" \" + str(y))"
   ]
  },
  {
   "cell_type": "markdown",
   "metadata": {},
   "source": [
    "## Strings"
   ]
  },
  {
   "cell_type": "code",
   "execution_count": 41,
   "metadata": {},
   "outputs": [
    {
     "name": "stdout",
     "output_type": "stream",
     "text": [
      "H\n",
      "e\n",
      "l\n",
      "l\n",
      "o\n",
      ",\n",
      " \n",
      "W\n",
      "o\n",
      "r\n",
      "l\n",
      "d\n",
      "!\n",
      "True\n"
     ]
    }
   ],
   "source": [
    "string = \"Hello, World!\" # string Hello, World!\n",
    "string[1] # access character of string\n",
    "for x in string: # loop through string\n",
    "    print(x)\n",
    "len(string) # get length of string\n",
    "print(\"ell\" in string) # check if substring is in the string\n",
    "string[1:3] # strings can be treated like arrays - get substring\n",
    "string.upper() # uppercase the entire string\n",
    "string.lower() # lowercase the entire string\n",
    "string.strip() # removes preceding or trailing whitespace\n",
    "string.split(\", \") # splits the string on deliminator\n",
    "format = f\"This is a format string: {string}\" # format string"
   ]
  },
  {
   "cell_type": "markdown",
   "metadata": {},
   "source": [
    "## Math"
   ]
  },
  {
   "cell_type": "code",
   "execution_count": 30,
   "metadata": {},
   "outputs": [
    {
     "data": {
      "text/plain": [
       "243"
      ]
     },
     "execution_count": 30,
     "metadata": {},
     "output_type": "execute_result"
    }
   ],
   "source": [
    "min(2, 5, 7, 8) # returns the min of parameters\n",
    "max(2, 5, 7, 8) # returns the max of parameters\n",
    "abs(-2.56) # returns absolute value of -2.56\n",
    "import math\n",
    "math.ceil(1.4) # returns ceiling of 1.4, which is 2\n",
    "math.floor(1.4) # returns floor of 1.4, which is 1\n",
    "3/5 # division\n",
    "3//5 # FLOOR division\n",
    "3**5 # Exponentiation"
   ]
  }
 ],
 "metadata": {
  "kernelspec": {
   "display_name": "Python 3",
   "language": "python",
   "name": "python3"
  },
  "language_info": {
   "codemirror_mode": {
    "name": "ipython",
    "version": 3
   },
   "file_extension": ".py",
   "mimetype": "text/x-python",
   "name": "python",
   "nbconvert_exporter": "python",
   "pygments_lexer": "ipython3",
   "version": "3.12.4"
  }
 },
 "nbformat": 4,
 "nbformat_minor": 2
}
